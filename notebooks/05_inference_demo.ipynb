{
 "cells": [
  {
   "cell_type": "code",
   "execution_count": 1,
   "id": "76c6b51d",
   "metadata": {},
   "outputs": [
    {
     "ename": "ModuleNotFoundError",
     "evalue": "No module named 'src'",
     "output_type": "error",
     "traceback": [
      "\u001b[1;31m---------------------------------------------------------------------------\u001b[0m",
      "\u001b[1;31mModuleNotFoundError\u001b[0m                       Traceback (most recent call last)",
      "Cell \u001b[1;32mIn[1], line 11\u001b[0m\n\u001b[0;32m      8\u001b[0m \u001b[38;5;28;01mimport\u001b[39;00m \u001b[38;5;21;01mmatplotlib\u001b[39;00m\u001b[38;5;21;01m.\u001b[39;00m\u001b[38;5;21;01mpyplot\u001b[39;00m \u001b[38;5;28;01mas\u001b[39;00m \u001b[38;5;21;01mplt\u001b[39;00m\n\u001b[0;32m      9\u001b[0m \u001b[38;5;28;01mimport\u001b[39;00m \u001b[38;5;21;01mtensorflow\u001b[39;00m \u001b[38;5;28;01mas\u001b[39;00m \u001b[38;5;21;01mtf\u001b[39;00m\n\u001b[1;32m---> 11\u001b[0m \u001b[38;5;28;01mfrom\u001b[39;00m \u001b[38;5;21;01msrc\u001b[39;00m\u001b[38;5;21;01m.\u001b[39;00m\u001b[38;5;21;01minference\u001b[39;00m \u001b[38;5;28;01mimport\u001b[39;00m load_trained_model, predict_image, infer_from_directory\n\u001b[0;32m     12\u001b[0m \u001b[38;5;28;01mfrom\u001b[39;00m \u001b[38;5;21;01msrc\u001b[39;00m\u001b[38;5;21;01m.\u001b[39;00m\u001b[38;5;21;01mmodel_config\u001b[39;00m \u001b[38;5;28;01mimport\u001b[39;00m ModelConfig\n\u001b[0;32m     13\u001b[0m \u001b[38;5;28;01mfrom\u001b[39;00m \u001b[38;5;21;01msrc\u001b[39;00m\u001b[38;5;21;01m.\u001b[39;00m\u001b[38;5;21;01mutils\u001b[39;00m \u001b[38;5;28;01mimport\u001b[39;00m print_system_info\n",
      "\u001b[1;31mModuleNotFoundError\u001b[0m: No module named 'src'"
     ]
    }
   ],
   "source": [
    "# 🧠 05_inference_demo.ipynb\n",
    "\n",
    "# 📌 Notebook: Perform inference on new images using trained model\n",
    "\n",
    "# ✅ Step 1: Imports and Setup\n",
    "import os\n",
    "from IPython.display import Image, display\n",
    "import matplotlib.pyplot as plt\n",
    "import tensorflow as tf\n",
    "\n",
    "from src.inference import load_trained_model, predict_image, infer_from_directory\n",
    "from src.model_config import ModelConfig\n",
    "from src.utils import print_system_info\n",
    "\n",
    "config = ModelConfig()\n",
    "print_system_info()\n",
    "\n",
    "# ✅ Step 2: Load Trained Model\n",
    "model = load_trained_model()\n",
    "print(\"Model loaded successfully!\")\n",
    "\n",
    "# ✅ Step 3: Run inference on a single image\n",
    "sample_image_path = \"data/raw/ALL_IDB1/Im001_1.jpg\"  # Replace with your own test image\n",
    "\n",
    "result = predict_image(sample_image_path, model)\n",
    "print(\"Prediction:\")\n",
    "print(result)\n",
    "\n",
    "# 🖼️ Display image and prediction\n",
    "img = plt.imread(sample_image_path)\n",
    "plt.imshow(img)\n",
    "plt.axis('off')\n",
    "plt.title(f\"Predicted: {result['predicted_class']} ({result['confidence']:.2f})\")\n",
    "plt.show()\n",
    "\n",
    "# ✅ Step 4: Run inference on a directory of images\n",
    "# Set this to a folder with multiple images to test batch inference\n",
    "sample_directory = \"data/raw/ALL_IDB1\"  # Can be a custom directory\n",
    "\n",
    "results = infer_from_directory(sample_directory, model)\n",
    "print(\"\\nBatch Predictions:\")\n",
    "for r in results[:5]:  # Show first 5 results\n",
    "    print(f\"{os.path.basename(r['image_path'])}: {r['predicted_class']} ({r['confidence']:.2f})\")"
   ]
  }
 ],
 "metadata": {
  "kernelspec": {
   "display_name": "base",
   "language": "python",
   "name": "python3"
  },
  "language_info": {
   "codemirror_mode": {
    "name": "ipython",
    "version": 3
   },
   "file_extension": ".py",
   "mimetype": "text/x-python",
   "name": "python",
   "nbconvert_exporter": "python",
   "pygments_lexer": "ipython3",
   "version": "3.12.7"
  }
 },
 "nbformat": 4,
 "nbformat_minor": 5
}
