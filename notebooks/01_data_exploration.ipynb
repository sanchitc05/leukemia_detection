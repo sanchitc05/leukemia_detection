{
 "cells": [
  {
   "cell_type": "markdown",
   "id": "c4054d72",
   "metadata": {},
   "source": [
    "# 🧬 01 - Data Exploration: Leukemia Detection\n",
    "\n",
    "This notebook performs initial exploratory analysis on the ALL_IDB1 dataset to help understand the data distribution, image properties, and sample images.\n",
    "\n",
    "---"
   ]
  },
  {
   "cell_type": "code",
   "execution_count": 6,
   "id": "95736511",
   "metadata": {},
   "outputs": [],
   "source": [
    "# Imports\n",
    "import os\n",
    "import matplotlib.pyplot as plt\n",
    "import seaborn as sns\n",
    "from collections import Counter\n",
    "from pathlib import Path\n",
    "from PIL import Image\n",
    "import joblib\n",
    "\n",
    "# Set up paths \n",
    "DATA_DIR = Path(\"C:\\\\Users\\\\HP\\\\OneDrive\\\\Desktop\\\\leukemia_detection\\\\data\\\\raw\\\\ALL_IDB1\")\n",
    "if not DATA_DIR.exists():\n",
    "    raise FileNotFoundError(f\"Data directory {DATA_DIR} does not exist.\")"
   ]
  },
  {
   "cell_type": "markdown",
   "id": "4ec0aaf5",
   "metadata": {},
   "source": [
    "## 🔍 Dataset Overview\n",
    "Check how many images we have and their corresponding labels."
   ]
  },
  {
   "cell_type": "code",
   "execution_count": 2,
   "id": "0ca26ba1",
   "metadata": {},
   "outputs": [
    {
     "name": "stdout",
     "output_type": "stream",
     "text": [
      "Total images found: 0\n",
      "Label distribution: Counter()\n"
     ]
    }
   ],
   "source": [
    "# Walk through directory and collect filenames and class labels\n",
    "image_paths = []\n",
    "labels = []\n",
    "\n",
    "for file_name in os.listdir(DATA_DIR):\n",
    "    if file_name.endswith(('.jpg', '.png')):\n",
    "        label = 'leukemia' if '_1' in file_name else 'healthy'\n",
    "        image_paths.append(DATA_DIR / file_name)\n",
    "        labels.append(label)\n",
    "\n",
    "# Count\n",
    "print(f\"Total images found: {len(image_paths)}\")\n",
    "print(f\"Label distribution: {Counter(labels)}\")\n"
   ]
  },
  {
   "cell_type": "markdown",
   "id": "e95d529e",
   "metadata": {},
   "source": [
    "## 📊 Class Distribution\n",
    "Let's visualize how balanced the dataset is.\n"
   ]
  },
  {
   "cell_type": "code",
   "execution_count": 7,
   "id": "2f3ace2a",
   "metadata": {},
   "outputs": [
    {
     "data": {
      "image/png": "[encoded data removed]",
      "text/plain": [
       "<Figure size 600x400 with 1 Axes>"
      ]
     },
     "metadata": {},
     "output_type": "display_data"
    }
   ],
   "source": [
    "sns.set_style(\"whitegrid\")\n",
    "plt.figure(figsize=(6, 4))\n",
    "sns.countplot(x=labels, palette='Set2')\n",
    "plt.title(\"Class Distribution\")\n",
    "plt.xlabel(\"Class\")\n",
    "plt.ylabel(\"Number of Images\")\n",
    "plt.show()\n",
    "# Display a sample image\n",
    "if image_paths:\n",
    "    sample_image = Image.open(image_paths[0])\n",
    "    plt.figure(figsize=(5, 5))\n",
    "    plt.imshow(sample_image)\n",
    "    plt.axis('off')\n",
    "    plt.title(f\"Sample Image: {image_paths[0].name}\")\n",
    "    plt.legend()\n",
    "    plt.show()"
   ]
  },
  {
   "cell_type": "markdown",
   "id": "012715d9",
   "metadata": {},
   "source": [
    "## 🖼️ Display Sample Images\n",
    "Let's visualize a few sample images from each class."
   ]
  },
  {
   "cell_type": "code",
   "execution_count": 4,
   "id": "c35b191b",
   "metadata": {},
   "outputs": [],
   "source": [
    "def show_samples_by_class(image_paths, labels, num_samples=4):\n",
    "    classes = list(set(labels))\n",
    "    fig, axes = plt.subplots(len(classes), num_samples, figsize=(15, 6))\n",
    "\n",
    "    for row_idx, cls in enumerate(classes):\n",
    "        cls_paths = [p for p, l in zip(image_paths, labels) if l == cls][:num_samples]\n",
    "        for col_idx, img_path in enumerate(cls_paths):\n",
    "            img = Image.open(img_path)\n",
    "            axes[row_idx, col_idx].imshow(img)\n",
    "            axes[row_idx, col_idx].set_title(f\"{cls.capitalize()}\")\n",
    "            axes[row_idx, col_idx].axis('off')\n",
    "\n",
    "    plt.suptitle(\"Sample Images per Class\", fontsize=16)\n",
    "    plt.tight_layout()\n",
    "    plt.show()\n"
   ]
  },
  {
   "cell_type": "markdown",
   "id": "4485e3e5",
   "metadata": {},
   "source": [
    "## 📐 Image Dimensions & Channels\n",
    "Let's analyze image sizes and verify they are RGB.\n"
   ]
  },
  {
   "cell_type": "code",
   "execution_count": 5,
   "id": "43853b9b",
   "metadata": {},
   "outputs": [
    {
     "name": "stdout",
     "output_type": "stream",
     "text": [
      "Most common image sizes: []\n",
      "Image color modes: Counter()\n"
     ]
    }
   ],
   "source": [
    "sizes = []\n",
    "modes = []\n",
    "\n",
    "for path in image_paths[:100]:  # Check only first 100 for speed\n",
    "    with Image.open(path) as img:\n",
    "        sizes.append(img.size)\n",
    "        modes.append(img.mode)\n",
    "\n",
    "# Most common image size\n",
    "size_counts = Counter(sizes)\n",
    "print(\"Most common image sizes:\", size_counts.most_common(5))\n",
    "\n",
    "# Color modes (e.g., RGB or grayscale)\n",
    "print(\"Image color modes:\", Counter(modes))\n"
   ]
  },
  {
   "cell_type": "markdown",
   "id": "c1b45822",
   "metadata": {},
   "source": [
    "## ✅ Summary\n",
    "\n",
    "- Total images: ✅\n",
    "- Class distribution: ✅\n",
    "- Sample visualization: ✅\n",
    "- Image formats: ✅\n",
    "\n",
    "We are ready to proceed to preprocessing and model training!"
   ]
  }
 ],
 "metadata": {
  "kernelspec": {
   "display_name": "base",
   "language": "python",
   "name": "python3"
  },
  "language_info": {
   "codemirror_mode": {
    "name": "ipython",
    "version": 3
   },
   "file_extension": ".py",
   "mimetype": "text/x-python",
   "name": "python",
   "nbconvert_exporter": "python",
   "pygments_lexer": "ipython3",
   "version": "3.12.7"
  }
 },
 "nbformat": 4,
 "nbformat_minor": 5
}
