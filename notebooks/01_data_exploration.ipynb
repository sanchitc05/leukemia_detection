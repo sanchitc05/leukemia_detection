{
 "cells": [
  {
   "cell_type": "markdown",
<<<<<<< HEAD
   "id": "e67c1e94",
=======
   "id": "3182e797",
>>>>>>> e211ebe (commit)
   "metadata": {},
   "source": [
    "# 🧬 01 - Data Exploration: Leukemia Detection\n",
    "\n",
    "This notebook performs initial exploratory analysis on the ALL_IDB1 dataset to help understand the data distribution, image properties, and sample images.\n",
    "\n",
    "---"
   ]
  },
  {
   "cell_type": "code",
   "execution_count": 7,
<<<<<<< HEAD
   "id": "c6bdf4e2",
=======
   "id": "a3030baf",
>>>>>>> e211ebe (commit)
   "metadata": {},
   "outputs": [],
   "source": [
    "# Imports\n",
    "import os\n",
    "import matplotlib.pyplot as plt\n",
    "import seaborn as sns\n",
    "from collections import Counter\n",
    "from pathlib import Path\n",
    "from PIL import Image\n",
    "\n",
    "# Set up paths\n",
    "DATA_DIR = Path(\"data/raw/ALL_IDB1\")"
   ]
  },
  {
   "cell_type": "markdown",
<<<<<<< HEAD
   "id": "c819f865",
=======
   "id": "aad091a1",
>>>>>>> e211ebe (commit)
   "metadata": {},
   "source": [
    "## 🔍 Dataset Overview\n",
    "Check how many images we have and their corresponding labels."
   ]
  },
  {
   "cell_type": "code",
<<<<<<< HEAD
   "execution_count": 9,
   "id": "aab5f102",
   "metadata": {},
   "outputs": [
    {
     "ename": "FileNotFoundError",
     "evalue": "[WinError 3] The system cannot find the path specified: 'data\\\\raw\\\\ALL_IDB1'",
     "output_type": "error",
     "traceback": [
      "\u001b[1;31m---------------------------------------------------------------------------\u001b[0m",
      "\u001b[1;31mFileNotFoundError\u001b[0m                         Traceback (most recent call last)",
      "Cell \u001b[1;32mIn[9], line 5\u001b[0m\n\u001b[0;32m      2\u001b[0m image_paths \u001b[38;5;241m=\u001b[39m []\n\u001b[0;32m      3\u001b[0m labels \u001b[38;5;241m=\u001b[39m []\n\u001b[1;32m----> 5\u001b[0m \u001b[38;5;28;01mfor\u001b[39;00m file_path \u001b[38;5;129;01min\u001b[39;00m DATA_DIR\u001b[38;5;241m.\u001b[39miterdir():\n\u001b[0;32m      6\u001b[0m     \u001b[38;5;28;01mif\u001b[39;00m file_path\u001b[38;5;241m.\u001b[39msuffix \u001b[38;5;129;01min\u001b[39;00m (\u001b[38;5;124m'\u001b[39m\u001b[38;5;124m.jpg\u001b[39m\u001b[38;5;124m'\u001b[39m, \u001b[38;5;124m'\u001b[39m\u001b[38;5;124m.png\u001b[39m\u001b[38;5;124m'\u001b[39m):\n\u001b[0;32m      7\u001b[0m         label \u001b[38;5;241m=\u001b[39m \u001b[38;5;124m'\u001b[39m\u001b[38;5;124mleukemia\u001b[39m\u001b[38;5;124m'\u001b[39m \u001b[38;5;28;01mif\u001b[39;00m \u001b[38;5;124m'\u001b[39m\u001b[38;5;124m_1\u001b[39m\u001b[38;5;124m'\u001b[39m \u001b[38;5;129;01min\u001b[39;00m file_path\u001b[38;5;241m.\u001b[39mname \u001b[38;5;28;01melse\u001b[39;00m \u001b[38;5;124m'\u001b[39m\u001b[38;5;124mhealthy\u001b[39m\u001b[38;5;124m'\u001b[39m\n",
      "File \u001b[1;32mc:\\Users\\HP\\anaconda3\\Lib\\pathlib.py:1056\u001b[0m, in \u001b[0;36mPath.iterdir\u001b[1;34m(self)\u001b[0m\n\u001b[0;32m   1050\u001b[0m \u001b[38;5;28;01mdef\u001b[39;00m \u001b[38;5;21miterdir\u001b[39m(\u001b[38;5;28mself\u001b[39m):\n\u001b[0;32m   1051\u001b[0m \u001b[38;5;250m    \u001b[39m\u001b[38;5;124;03m\"\"\"Yield path objects of the directory contents.\u001b[39;00m\n\u001b[0;32m   1052\u001b[0m \n\u001b[0;32m   1053\u001b[0m \u001b[38;5;124;03m    The children are yielded in arbitrary order, and the\u001b[39;00m\n\u001b[0;32m   1054\u001b[0m \u001b[38;5;124;03m    special entries '.' and '..' are not included.\u001b[39;00m\n\u001b[0;32m   1055\u001b[0m \u001b[38;5;124;03m    \"\"\"\u001b[39;00m\n\u001b[1;32m-> 1056\u001b[0m     \u001b[38;5;28;01mfor\u001b[39;00m name \u001b[38;5;129;01min\u001b[39;00m os\u001b[38;5;241m.\u001b[39mlistdir(\u001b[38;5;28mself\u001b[39m):\n\u001b[0;32m   1057\u001b[0m         \u001b[38;5;28;01myield\u001b[39;00m \u001b[38;5;28mself\u001b[39m\u001b[38;5;241m.\u001b[39m_make_child_relpath(name)\n",
      "\u001b[1;31mFileNotFoundError\u001b[0m: [WinError 3] The system cannot find the path specified: 'data\\\\raw\\\\ALL_IDB1'"
=======
   "execution_count": 8,
   "id": "22c595c9",
   "metadata": {},
   "outputs": [],
   "source": [
    "from pathlib import Path\n",
    "\n",
    "# Relative path from notebooks/ to ALL_IDB1 folder\n",
    "DATA_DIR = Path(\"../data/raw/ALL_IDB1\")\n",
    "\n",
    "if not DATA_DIR.exists():\n",
    "    raise FileNotFoundError(f\"Dataset directory not found: {DATA_DIR}\")"
   ]
  },
  {
   "cell_type": "code",
   "execution_count": 9,
   "id": "a7ab3fb3",
   "metadata": {},
   "outputs": [
    {
     "name": "stdout",
     "output_type": "stream",
     "text": [
      "Total images found: 0\n",
      "Label distribution: Counter()\n"
>>>>>>> e211ebe (commit)
     ]
    }
   ],
   "source": [
    "# Walk through directory and collect filenames and class labels\n",
    "image_paths = []\n",
    "labels = []\n",
    "\n",
<<<<<<< HEAD
    "for file_path in DATA_DIR.iterdir():\n",
    "    if file_path.suffix in ('.jpg', '.png'):\n",
    "        label = 'leukemia' if '_1' in file_path.name else 'healthy'\n",
    "        image_paths.append(file_path)\n",
=======
    "for file_name in os.listdir(DATA_DIR):\n",
    "    if file_name.endswith(('.jpg', '.png')):\n",
    "        label = 'leukemia' if '_1' in file_name else 'healthy'\n",
    "        image_paths.append(DATA_DIR / file_name)\n",
>>>>>>> e211ebe (commit)
    "        labels.append(label)\n",
    "\n",
    "# Count\n",
    "print(f\"Total images found: {len(image_paths)}\")\n",
<<<<<<< HEAD
    "print(f\"Label distribution: {Counter(labels)}\")"
=======
    "print(f\"Label distribution: {Counter(labels)}\")\n",
    "# Visualize the distribution of labels\n",
    "sns.set(style=\"whitegrid\")"
   ]
  },
  {
   "cell_type": "markdown",
   "id": "fb3bd2b8",
   "metadata": {},
   "source": [
    "## 📊 Class Distribution\n",
    "Let's visualize how balanced the dataset is."
   ]
  },
  {
   "cell_type": "code",
   "execution_count": 10,
   "id": "fbe46e3a",
   "metadata": {},
   "outputs": [
    {
     "data": {
      "image/png": "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",
      "text/plain": [
       "<Figure size 600x400 with 1 Axes>"
      ]
     },
     "metadata": {},
     "output_type": "display_data"
    }
   ],
   "source": [
    "sns.set_style(\"whitegrid\")\n",
    "plt.figure(figsize=(6, 4))\n",
    "sns.countplot(x=labels, palette='Set2')\n",
    "plt.title(\"Class Distribution\")\n",
    "plt.xlabel(\"Class\")\n",
    "plt.ylabel(\"Number of Images\")\n",
    "plt.show()"
   ]
  },
  {
   "cell_type": "markdown",
   "id": "c507915b",
   "metadata": {},
   "source": [
    "## 🖼️ Display Sample Images\n",
    "Let's visualize a few sample images from each class."
   ]
  },
  {
   "cell_type": "code",
   "execution_count": 11,
   "id": "4b83a95c",
   "metadata": {},
   "outputs": [
    {
     "ename": "ValueError",
     "evalue": "Number of rows must be a positive integer, not 0",
     "output_type": "error",
     "traceback": [
      "\u001b[1;31m---------------------------------------------------------------------------\u001b[0m",
      "\u001b[1;31mValueError\u001b[0m                                Traceback (most recent call last)",
      "Cell \u001b[1;32mIn[11], line 17\u001b[0m\n\u001b[0;32m     14\u001b[0m     plt\u001b[38;5;241m.\u001b[39mtight_layout()\n\u001b[0;32m     15\u001b[0m     plt\u001b[38;5;241m.\u001b[39mshow()\n\u001b[1;32m---> 17\u001b[0m show_samples_by_class(image_paths, labels)\n",
      "Cell \u001b[1;32mIn[11], line 3\u001b[0m, in \u001b[0;36mshow_samples_by_class\u001b[1;34m(image_paths, labels, num_samples)\u001b[0m\n\u001b[0;32m      1\u001b[0m \u001b[38;5;28;01mdef\u001b[39;00m \u001b[38;5;21mshow_samples_by_class\u001b[39m(image_paths, labels, num_samples\u001b[38;5;241m=\u001b[39m\u001b[38;5;241m4\u001b[39m):\n\u001b[0;32m      2\u001b[0m     classes \u001b[38;5;241m=\u001b[39m \u001b[38;5;28mlist\u001b[39m(\u001b[38;5;28mset\u001b[39m(labels))\n\u001b[1;32m----> 3\u001b[0m     fig, axes \u001b[38;5;241m=\u001b[39m plt\u001b[38;5;241m.\u001b[39msubplots(\u001b[38;5;28mlen\u001b[39m(classes), num_samples, figsize\u001b[38;5;241m=\u001b[39m(\u001b[38;5;241m15\u001b[39m, \u001b[38;5;241m6\u001b[39m))\n\u001b[0;32m      5\u001b[0m     \u001b[38;5;28;01mfor\u001b[39;00m row_idx, \u001b[38;5;28mcls\u001b[39m \u001b[38;5;129;01min\u001b[39;00m \u001b[38;5;28menumerate\u001b[39m(classes):\n\u001b[0;32m      6\u001b[0m         cls_paths \u001b[38;5;241m=\u001b[39m [p \u001b[38;5;28;01mfor\u001b[39;00m p, l \u001b[38;5;129;01min\u001b[39;00m \u001b[38;5;28mzip\u001b[39m(image_paths, labels) \u001b[38;5;28;01mif\u001b[39;00m l \u001b[38;5;241m==\u001b[39m \u001b[38;5;28mcls\u001b[39m][:num_samples]\n",
      "File \u001b[1;32mc:\\Users\\HP\\anaconda3\\Lib\\site-packages\\matplotlib\\pyplot.py:1760\u001b[0m, in \u001b[0;36msubplots\u001b[1;34m(nrows, ncols, sharex, sharey, squeeze, width_ratios, height_ratios, subplot_kw, gridspec_kw, **fig_kw)\u001b[0m\n\u001b[0;32m   1615\u001b[0m \u001b[38;5;250m\u001b[39m\u001b[38;5;124;03m\"\"\"\u001b[39;00m\n\u001b[0;32m   1616\u001b[0m \u001b[38;5;124;03mCreate a figure and a set of subplots.\u001b[39;00m\n\u001b[0;32m   1617\u001b[0m \n\u001b[1;32m   (...)\u001b[0m\n\u001b[0;32m   1757\u001b[0m \n\u001b[0;32m   1758\u001b[0m \u001b[38;5;124;03m\"\"\"\u001b[39;00m\n\u001b[0;32m   1759\u001b[0m fig \u001b[38;5;241m=\u001b[39m figure(\u001b[38;5;241m*\u001b[39m\u001b[38;5;241m*\u001b[39mfig_kw)\n\u001b[1;32m-> 1760\u001b[0m axs \u001b[38;5;241m=\u001b[39m fig\u001b[38;5;241m.\u001b[39msubplots(nrows\u001b[38;5;241m=\u001b[39mnrows, ncols\u001b[38;5;241m=\u001b[39mncols, sharex\u001b[38;5;241m=\u001b[39msharex, sharey\u001b[38;5;241m=\u001b[39msharey,\n\u001b[0;32m   1761\u001b[0m                    squeeze\u001b[38;5;241m=\u001b[39msqueeze, subplot_kw\u001b[38;5;241m=\u001b[39msubplot_kw,\n\u001b[0;32m   1762\u001b[0m                    gridspec_kw\u001b[38;5;241m=\u001b[39mgridspec_kw, height_ratios\u001b[38;5;241m=\u001b[39mheight_ratios,\n\u001b[0;32m   1763\u001b[0m                    width_ratios\u001b[38;5;241m=\u001b[39mwidth_ratios)\n\u001b[0;32m   1764\u001b[0m \u001b[38;5;28;01mreturn\u001b[39;00m fig, axs\n",
      "File \u001b[1;32mc:\\Users\\HP\\anaconda3\\Lib\\site-packages\\matplotlib\\figure.py:860\u001b[0m, in \u001b[0;36mFigureBase.subplots\u001b[1;34m(self, nrows, ncols, sharex, sharey, squeeze, width_ratios, height_ratios, subplot_kw, gridspec_kw)\u001b[0m\n\u001b[0;32m    856\u001b[0m         \u001b[38;5;28;01mraise\u001b[39;00m \u001b[38;5;167;01mValueError\u001b[39;00m(\u001b[38;5;124m\"\u001b[39m\u001b[38;5;124m'\u001b[39m\u001b[38;5;124mwidth_ratios\u001b[39m\u001b[38;5;124m'\u001b[39m\u001b[38;5;124m must not be defined both as \u001b[39m\u001b[38;5;124m\"\u001b[39m\n\u001b[0;32m    857\u001b[0m                          \u001b[38;5;124m\"\u001b[39m\u001b[38;5;124mparameter and as key in \u001b[39m\u001b[38;5;124m'\u001b[39m\u001b[38;5;124mgridspec_kw\u001b[39m\u001b[38;5;124m'\u001b[39m\u001b[38;5;124m\"\u001b[39m)\n\u001b[0;32m    858\u001b[0m     gridspec_kw[\u001b[38;5;124m'\u001b[39m\u001b[38;5;124mwidth_ratios\u001b[39m\u001b[38;5;124m'\u001b[39m] \u001b[38;5;241m=\u001b[39m width_ratios\n\u001b[1;32m--> 860\u001b[0m gs \u001b[38;5;241m=\u001b[39m \u001b[38;5;28mself\u001b[39m\u001b[38;5;241m.\u001b[39madd_gridspec(nrows, ncols, figure\u001b[38;5;241m=\u001b[39m\u001b[38;5;28mself\u001b[39m, \u001b[38;5;241m*\u001b[39m\u001b[38;5;241m*\u001b[39mgridspec_kw)\n\u001b[0;32m    861\u001b[0m axs \u001b[38;5;241m=\u001b[39m gs\u001b[38;5;241m.\u001b[39msubplots(sharex\u001b[38;5;241m=\u001b[39msharex, sharey\u001b[38;5;241m=\u001b[39msharey, squeeze\u001b[38;5;241m=\u001b[39msqueeze,\n\u001b[0;32m    862\u001b[0m                   subplot_kw\u001b[38;5;241m=\u001b[39msubplot_kw)\n\u001b[0;32m    863\u001b[0m \u001b[38;5;28;01mreturn\u001b[39;00m axs\n",
      "File \u001b[1;32mc:\\Users\\HP\\anaconda3\\Lib\\site-packages\\matplotlib\\figure.py:1538\u001b[0m, in \u001b[0;36mFigureBase.add_gridspec\u001b[1;34m(self, nrows, ncols, **kwargs)\u001b[0m\n\u001b[0;32m   1495\u001b[0m \u001b[38;5;250m\u001b[39m\u001b[38;5;124;03m\"\"\"\u001b[39;00m\n\u001b[0;32m   1496\u001b[0m \u001b[38;5;124;03mLow-level API for creating a `.GridSpec` that has this figure as a parent.\u001b[39;00m\n\u001b[0;32m   1497\u001b[0m \n\u001b[1;32m   (...)\u001b[0m\n\u001b[0;32m   1534\u001b[0m \n\u001b[0;32m   1535\u001b[0m \u001b[38;5;124;03m\"\"\"\u001b[39;00m\n\u001b[0;32m   1537\u001b[0m _ \u001b[38;5;241m=\u001b[39m kwargs\u001b[38;5;241m.\u001b[39mpop(\u001b[38;5;124m'\u001b[39m\u001b[38;5;124mfigure\u001b[39m\u001b[38;5;124m'\u001b[39m, \u001b[38;5;28;01mNone\u001b[39;00m)  \u001b[38;5;66;03m# pop in case user has added this...\u001b[39;00m\n\u001b[1;32m-> 1538\u001b[0m gs \u001b[38;5;241m=\u001b[39m GridSpec(nrows\u001b[38;5;241m=\u001b[39mnrows, ncols\u001b[38;5;241m=\u001b[39mncols, figure\u001b[38;5;241m=\u001b[39m\u001b[38;5;28mself\u001b[39m, \u001b[38;5;241m*\u001b[39m\u001b[38;5;241m*\u001b[39mkwargs)\n\u001b[0;32m   1539\u001b[0m \u001b[38;5;28;01mreturn\u001b[39;00m gs\n",
      "File \u001b[1;32mc:\\Users\\HP\\anaconda3\\Lib\\site-packages\\matplotlib\\gridspec.py:363\u001b[0m, in \u001b[0;36mGridSpec.__init__\u001b[1;34m(self, nrows, ncols, figure, left, bottom, right, top, wspace, hspace, width_ratios, height_ratios)\u001b[0m\n\u001b[0;32m    360\u001b[0m \u001b[38;5;28mself\u001b[39m\u001b[38;5;241m.\u001b[39mhspace \u001b[38;5;241m=\u001b[39m hspace\n\u001b[0;32m    361\u001b[0m \u001b[38;5;28mself\u001b[39m\u001b[38;5;241m.\u001b[39mfigure \u001b[38;5;241m=\u001b[39m figure\n\u001b[1;32m--> 363\u001b[0m \u001b[38;5;28msuper\u001b[39m()\u001b[38;5;241m.\u001b[39m\u001b[38;5;21m__init__\u001b[39m(nrows, ncols,\n\u001b[0;32m    364\u001b[0m                  width_ratios\u001b[38;5;241m=\u001b[39mwidth_ratios,\n\u001b[0;32m    365\u001b[0m                  height_ratios\u001b[38;5;241m=\u001b[39mheight_ratios)\n",
      "File \u001b[1;32mc:\\Users\\HP\\anaconda3\\Lib\\site-packages\\matplotlib\\gridspec.py:48\u001b[0m, in \u001b[0;36mGridSpecBase.__init__\u001b[1;34m(self, nrows, ncols, height_ratios, width_ratios)\u001b[0m\n\u001b[0;32m     33\u001b[0m \u001b[38;5;250m\u001b[39m\u001b[38;5;124;03m\"\"\"\u001b[39;00m\n\u001b[0;32m     34\u001b[0m \u001b[38;5;124;03mParameters\u001b[39;00m\n\u001b[0;32m     35\u001b[0m \u001b[38;5;124;03m----------\u001b[39;00m\n\u001b[1;32m   (...)\u001b[0m\n\u001b[0;32m     45\u001b[0m \u001b[38;5;124;03m    If not given, all rows will have the same height.\u001b[39;00m\n\u001b[0;32m     46\u001b[0m \u001b[38;5;124;03m\"\"\"\u001b[39;00m\n\u001b[0;32m     47\u001b[0m \u001b[38;5;28;01mif\u001b[39;00m \u001b[38;5;129;01mnot\u001b[39;00m \u001b[38;5;28misinstance\u001b[39m(nrows, Integral) \u001b[38;5;129;01mor\u001b[39;00m nrows \u001b[38;5;241m<\u001b[39m\u001b[38;5;241m=\u001b[39m \u001b[38;5;241m0\u001b[39m:\n\u001b[1;32m---> 48\u001b[0m     \u001b[38;5;28;01mraise\u001b[39;00m \u001b[38;5;167;01mValueError\u001b[39;00m(\n\u001b[0;32m     49\u001b[0m         \u001b[38;5;124mf\u001b[39m\u001b[38;5;124m\"\u001b[39m\u001b[38;5;124mNumber of rows must be a positive integer, not \u001b[39m\u001b[38;5;132;01m{\u001b[39;00mnrows\u001b[38;5;132;01m!r}\u001b[39;00m\u001b[38;5;124m\"\u001b[39m)\n\u001b[0;32m     50\u001b[0m \u001b[38;5;28;01mif\u001b[39;00m \u001b[38;5;129;01mnot\u001b[39;00m \u001b[38;5;28misinstance\u001b[39m(ncols, Integral) \u001b[38;5;129;01mor\u001b[39;00m ncols \u001b[38;5;241m<\u001b[39m\u001b[38;5;241m=\u001b[39m \u001b[38;5;241m0\u001b[39m:\n\u001b[0;32m     51\u001b[0m     \u001b[38;5;28;01mraise\u001b[39;00m \u001b[38;5;167;01mValueError\u001b[39;00m(\n\u001b[0;32m     52\u001b[0m         \u001b[38;5;124mf\u001b[39m\u001b[38;5;124m\"\u001b[39m\u001b[38;5;124mNumber of columns must be a positive integer, not \u001b[39m\u001b[38;5;132;01m{\u001b[39;00mncols\u001b[38;5;132;01m!r}\u001b[39;00m\u001b[38;5;124m\"\u001b[39m)\n",
      "\u001b[1;31mValueError\u001b[0m: Number of rows must be a positive integer, not 0"
     ]
    },
    {
     "data": {
      "text/plain": [
       "<Figure size 1500x600 with 0 Axes>"
      ]
     },
     "metadata": {},
     "output_type": "display_data"
    }
   ],
   "source": [
    "def show_samples_by_class(image_paths, labels, num_samples=4):\n",
    "    classes = list(set(labels))\n",
    "    fig, axes = plt.subplots(len(classes), num_samples, figsize=(15, 6))\n",
    "\n",
    "    for row_idx, cls in enumerate(classes):\n",
    "        cls_paths = [p for p, l in zip(image_paths, labels) if l == cls][:num_samples]\n",
    "        for col_idx, img_path in enumerate(cls_paths):\n",
    "            img = Image.open(img_path)\n",
    "            axes[row_idx, col_idx].imshow(img)\n",
    "            axes[row_idx, col_idx].set_title(f\"{cls.capitalize()}\")\n",
    "            axes[row_idx, col_idx].axis('off')\n",
    "\n",
    "    plt.suptitle(\"Sample Images per Class\", fontsize=16)\n",
    "    plt.tight_layout()\n",
    "    plt.show()\n",
    "\n",
    "show_samples_by_class(image_paths, labels)"
   ]
  },
  {
   "cell_type": "markdown",
   "id": "0926b89b",
   "metadata": {},
   "source": [
    "## 📐 Image Dimensions & Channels\n",
    "Let's analyze image sizes and verify they are RGB."
>>>>>>> e211ebe (commit)
   ]
  },
  {
   "cell_type": "code",
   "execution_count": null,
<<<<<<< HEAD
   "id": "2ecf444f",
   "metadata": {},
   "outputs": [],
   "source": []
=======
   "id": "0fd13a68",
   "metadata": {},
   "outputs": [
    {
     "name": "stdout",
     "output_type": "stream",
     "text": [
      "Most common image sizes: []\n",
      "Image color modes: Counter()\n"
     ]
    }
   ],
   "source": [
    "sizes = []\n",
    "modes = []\n",
    "\n",
    "for path in image_paths[:100]:  # Check only first 100 for speed\n",
    "    with Image.open(path) as img:\n",
    "        sizes.append(img.size)\n",
    "        modes.append(img.mode)\n",
    "\n",
    "# Most common image size\n",
    "size_counts = Counter(sizes)\n",
    "print(\"Most common image sizes:\", size_counts.most_common(5))\n",
    "\n",
    "# Color modes (e.g., RGB or grayscale)\n",
    "print(\"Image color modes:\", Counter(modes))"
   ]
  },
  {
   "cell_type": "markdown",
   "id": "da278b8b",
   "metadata": {},
   "source": [
    "## ✅ Summary\n",
    "\n",
    "- Total images: ✅\n",
    "- Class distribution: ✅\n",
    "- Sample visualization: ✅\n",
    "- Image formats: ✅\n",
    "\n",
    "We are ready to proceed to preprocessing and model training!"
   ]
>>>>>>> e211ebe (commit)
  }
 ],
 "metadata": {
  "kernelspec": {
   "display_name": "base",
   "language": "python",
   "name": "python3"
  },
  "language_info": {
   "codemirror_mode": {
    "name": "ipython",
    "version": 3
   },
   "file_extension": ".py",
   "mimetype": "text/x-python",
   "name": "python",
   "nbconvert_exporter": "python",
   "pygments_lexer": "ipython3",
   "version": "3.12.7"
  }
 },
 "nbformat": 4,
 "nbformat_minor": 5
}
